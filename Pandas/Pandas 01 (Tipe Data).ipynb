{
 "cells": [
  {
   "cell_type": "markdown",
   "metadata": {},
   "source": [
    "<img src = coverpage.png />\n",
    "\n",
    "# Pandas"
   ]
  },
  {
   "cell_type": "markdown",
   "metadata": {},
   "source": [
    "Pandas adalah sebuah librari berlisensi BSD dan open source yang menyediakan struktur data dan analisis data yang mudah digunakan dan berkinerja tinggi untuk bahasa pemrograman Python. Struktur data dasar pandas dinamakan DataFrame, yaitu sebuah koleksi kolom berurutan dengan nama dan jenis, dengan demikian merupakan sebuah tabel yang tampak seperti database dimana sebuah baris tunggal mewakili sebuah contoh tunggal dan kolom mewakili atribut tertentu."
   ]
  },
  {
   "cell_type": "markdown",
   "metadata": {},
   "source": [
    "Pada modul ini akan membahas 3 tipe data yang terbentuk dalam library pandas, yaitu :\n",
    "1. Series\n",
    "2. Data frame\n",
    "3. Data Kosong (NaN)"
   ]
  },
  {
   "cell_type": "code",
   "execution_count": 1,
   "metadata": {},
   "outputs": [],
   "source": [
    "import numpy as np\n",
    "import pandas as pd"
   ]
  },
  {
   "cell_type": "markdown",
   "metadata": {},
   "source": [
    "## Series"
   ]
  },
  {
   "cell_type": "markdown",
   "metadata": {},
   "source": [
    "Series sangat mirip dengan array NumPy (sebenarnya dibangun di atas objek array NumPy). Apa yang membedakan array NumPy dari series, adalah bahwa series dapat memiliki label sumbu, yang berarti dapat diindeks oleh label, bukan hanya indeks berupa nomor/angka 0 s/d n.\n",
    "\n",
    "Untuk format penulisan syntax series adalah -> pd.Series( 'data' , 'index/label' ), untuk lebih jelasnya bisa dilihat pada contoh dibawah ini."
   ]
  },
  {
   "cell_type": "code",
   "execution_count": 2,
   "metadata": {},
   "outputs": [],
   "source": [
    "#membuat variabel untuk label dan isian data\n",
    "labels = ['a','b','c']\n",
    "my_list = [11,25,37]\n",
    "arr = np.array([10,20,30])\n",
    "d = {'a':1,'b':2,'c':3}"
   ]
  },
  {
   "cell_type": "code",
   "execution_count": 3,
   "metadata": {},
   "outputs": [
    {
     "data": {
      "text/plain": [
       "0    11\n",
       "1    25\n",
       "2    37\n",
       "dtype: int64"
      ]
     },
     "execution_count": 3,
     "metadata": {},
     "output_type": "execute_result"
    }
   ],
   "source": [
    "#menggunakan isian dari list\n",
    "pd.Series(my_list)"
   ]
  },
  {
   "cell_type": "code",
   "execution_count": 4,
   "metadata": {},
   "outputs": [
    {
     "data": {
      "text/plain": [
       "a    11\n",
       "b    25\n",
       "c    37\n",
       "dtype: int64"
      ]
     },
     "execution_count": 4,
     "metadata": {},
     "output_type": "execute_result"
    }
   ],
   "source": [
    "pd.Series(my_list,labels)"
   ]
  },
  {
   "cell_type": "code",
   "execution_count": 5,
   "metadata": {},
   "outputs": [
    {
     "data": {
      "text/plain": [
       "0    10\n",
       "1    20\n",
       "2    30\n",
       "dtype: int32"
      ]
     },
     "execution_count": 5,
     "metadata": {},
     "output_type": "execute_result"
    }
   ],
   "source": [
    "#menggunakan isian dari array\n",
    "pd.Series(arr)"
   ]
  },
  {
   "cell_type": "code",
   "execution_count": 6,
   "metadata": {},
   "outputs": [
    {
     "data": {
      "text/plain": [
       "a    10\n",
       "b    20\n",
       "c    30\n",
       "dtype: int32"
      ]
     },
     "execution_count": 6,
     "metadata": {},
     "output_type": "execute_result"
    }
   ],
   "source": [
    "pd.Series(arr,labels)"
   ]
  },
  {
   "cell_type": "code",
   "execution_count": 7,
   "metadata": {},
   "outputs": [
    {
     "data": {
      "text/plain": [
       "a    1\n",
       "b    2\n",
       "c    3\n",
       "dtype: int64"
      ]
     },
     "execution_count": 7,
     "metadata": {},
     "output_type": "execute_result"
    }
   ],
   "source": [
    "#menmbuat series dari dictionary\n",
    "pd.Series(d)"
   ]
  },
  {
   "cell_type": "markdown",
   "metadata": {},
   "source": [
    "## Data Frame"
   ]
  },
  {
   "cell_type": "markdown",
   "metadata": {},
   "source": [
    "Data frame yaitu sebuah koleksi kolom berurutan dengan nama dan jenis, dengan demikian merupakan sebuah tabel yang tampak seperti database dimana sebuah baris tunggal mewakili sebuah contoh tunggal dan kolom mewakili atribut tertentu. Harus dicatat di sini bahwa elemen dalam berbagai kolom mungkin berapa jenis yang berbeda. Data frame juga bisa dibilang sebagai gabungan dari 2 atau lebih Series seperti ilustrasi dibawah ini.\n",
    "\n",
    "<img src='data:image/png;base64,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' />\n",
    "\n",
    "Dengan adanya fitur dataframe memudahkan untuk membaca sebuah file dan menjadikannya table, kita juga dapat mengolah suatu data dengan menggunakan operasi seperti join, distinct, group by, agregasi, dan teknik lainnya yang terdapat pada SQL. Banyak format file yang dapat dibaca menggunakan Pandas, seperti file .txt, .csv, .tsv dan lainnya.\n",
    "\n",
    "Syntax umum membuat data frame yaitu -> pd.DataFrame( 'isian data' , 'index/label' , 'colom' )"
   ]
  },
  {
   "cell_type": "code",
   "execution_count": 8,
   "metadata": {},
   "outputs": [],
   "source": [
    "#membuat dataframe\n",
    "data = pd.DataFrame(np.random.randn(5,4),\n",
    "                    index='A B C D E'.split(),\n",
    "                    columns='W X Y Z'.split())"
   ]
  },
  {
   "cell_type": "code",
   "execution_count": 9,
   "metadata": {},
   "outputs": [
    {
     "data": {
      "text/html": [
       "<div>\n",
       "<style scoped>\n",
       "    .dataframe tbody tr th:only-of-type {\n",
       "        vertical-align: middle;\n",
       "    }\n",
       "\n",
       "    .dataframe tbody tr th {\n",
       "        vertical-align: top;\n",
       "    }\n",
       "\n",
       "    .dataframe thead th {\n",
       "        text-align: right;\n",
       "    }\n",
       "</style>\n",
       "<table border=\"1\" class=\"dataframe\">\n",
       "  <thead>\n",
       "    <tr style=\"text-align: right;\">\n",
       "      <th></th>\n",
       "      <th>W</th>\n",
       "      <th>X</th>\n",
       "      <th>Y</th>\n",
       "      <th>Z</th>\n",
       "    </tr>\n",
       "  </thead>\n",
       "  <tbody>\n",
       "    <tr>\n",
       "      <th>A</th>\n",
       "      <td>-1.846495</td>\n",
       "      <td>-0.320971</td>\n",
       "      <td>-0.725434</td>\n",
       "      <td>-0.967314</td>\n",
       "    </tr>\n",
       "    <tr>\n",
       "      <th>B</th>\n",
       "      <td>-0.171329</td>\n",
       "      <td>-0.304802</td>\n",
       "      <td>0.763991</td>\n",
       "      <td>-0.047478</td>\n",
       "    </tr>\n",
       "    <tr>\n",
       "      <th>C</th>\n",
       "      <td>-0.945343</td>\n",
       "      <td>-0.521526</td>\n",
       "      <td>0.999870</td>\n",
       "      <td>0.220298</td>\n",
       "    </tr>\n",
       "    <tr>\n",
       "      <th>D</th>\n",
       "      <td>-0.860445</td>\n",
       "      <td>-0.184837</td>\n",
       "      <td>-0.167988</td>\n",
       "      <td>-0.481762</td>\n",
       "    </tr>\n",
       "    <tr>\n",
       "      <th>E</th>\n",
       "      <td>-1.415819</td>\n",
       "      <td>-0.649598</td>\n",
       "      <td>-1.012776</td>\n",
       "      <td>1.113305</td>\n",
       "    </tr>\n",
       "  </tbody>\n",
       "</table>\n",
       "</div>"
      ],
      "text/plain": [
       "          W         X         Y         Z\n",
       "A -1.846495 -0.320971 -0.725434 -0.967314\n",
       "B -0.171329 -0.304802  0.763991 -0.047478\n",
       "C -0.945343 -0.521526  0.999870  0.220298\n",
       "D -0.860445 -0.184837 -0.167988 -0.481762\n",
       "E -1.415819 -0.649598 -1.012776  1.113305"
      ]
     },
     "execution_count": 9,
     "metadata": {},
     "output_type": "execute_result"
    }
   ],
   "source": [
    "data"
   ]
  },
  {
   "cell_type": "markdown",
   "metadata": {},
   "source": [
    "### Selection dan Indexing sebuah data frame"
   ]
  },
  {
   "cell_type": "code",
   "execution_count": 10,
   "metadata": {},
   "outputs": [
    {
     "data": {
      "text/plain": [
       "A   -1.846495\n",
       "B   -0.171329\n",
       "C   -0.945343\n",
       "D   -0.860445\n",
       "E   -1.415819\n",
       "Name: W, dtype: float64"
      ]
     },
     "execution_count": 10,
     "metadata": {},
     "output_type": "execute_result"
    }
   ],
   "source": [
    "#memanggil data satu kolom\n",
    "data['W']"
   ]
  },
  {
   "cell_type": "code",
   "execution_count": 11,
   "metadata": {},
   "outputs": [
    {
     "data": {
      "text/plain": [
       "W   -1.846495\n",
       "X   -0.320971\n",
       "Y   -0.725434\n",
       "Z   -0.967314\n",
       "Name: A, dtype: float64"
      ]
     },
     "execution_count": 11,
     "metadata": {},
     "output_type": "execute_result"
    }
   ],
   "source": [
    "#memanggil data satu baris\n",
    "data.loc['A']"
   ]
  },
  {
   "cell_type": "code",
   "execution_count": 12,
   "metadata": {},
   "outputs": [
    {
     "data": {
      "text/html": [
       "<div>\n",
       "<style scoped>\n",
       "    .dataframe tbody tr th:only-of-type {\n",
       "        vertical-align: middle;\n",
       "    }\n",
       "\n",
       "    .dataframe tbody tr th {\n",
       "        vertical-align: top;\n",
       "    }\n",
       "\n",
       "    .dataframe thead th {\n",
       "        text-align: right;\n",
       "    }\n",
       "</style>\n",
       "<table border=\"1\" class=\"dataframe\">\n",
       "  <thead>\n",
       "    <tr style=\"text-align: right;\">\n",
       "      <th></th>\n",
       "      <th>W</th>\n",
       "      <th>Y</th>\n",
       "    </tr>\n",
       "  </thead>\n",
       "  <tbody>\n",
       "    <tr>\n",
       "      <th>A</th>\n",
       "      <td>-1.846495</td>\n",
       "      <td>-0.725434</td>\n",
       "    </tr>\n",
       "    <tr>\n",
       "      <th>B</th>\n",
       "      <td>-0.171329</td>\n",
       "      <td>0.763991</td>\n",
       "    </tr>\n",
       "    <tr>\n",
       "      <th>C</th>\n",
       "      <td>-0.945343</td>\n",
       "      <td>0.999870</td>\n",
       "    </tr>\n",
       "    <tr>\n",
       "      <th>D</th>\n",
       "      <td>-0.860445</td>\n",
       "      <td>-0.167988</td>\n",
       "    </tr>\n",
       "    <tr>\n",
       "      <th>E</th>\n",
       "      <td>-1.415819</td>\n",
       "      <td>-1.012776</td>\n",
       "    </tr>\n",
       "  </tbody>\n",
       "</table>\n",
       "</div>"
      ],
      "text/plain": [
       "          W         Y\n",
       "A -1.846495 -0.725434\n",
       "B -0.171329  0.763991\n",
       "C -0.945343  0.999870\n",
       "D -0.860445 -0.167988\n",
       "E -1.415819 -1.012776"
      ]
     },
     "execution_count": 12,
     "metadata": {},
     "output_type": "execute_result"
    }
   ],
   "source": [
    "#memanggila data multi kolom\n",
    "data[['W','Y']]"
   ]
  },
  {
   "cell_type": "code",
   "execution_count": 13,
   "metadata": {},
   "outputs": [
    {
     "data": {
      "text/html": [
       "<div>\n",
       "<style scoped>\n",
       "    .dataframe tbody tr th:only-of-type {\n",
       "        vertical-align: middle;\n",
       "    }\n",
       "\n",
       "    .dataframe tbody tr th {\n",
       "        vertical-align: top;\n",
       "    }\n",
       "\n",
       "    .dataframe thead th {\n",
       "        text-align: right;\n",
       "    }\n",
       "</style>\n",
       "<table border=\"1\" class=\"dataframe\">\n",
       "  <thead>\n",
       "    <tr style=\"text-align: right;\">\n",
       "      <th></th>\n",
       "      <th>W</th>\n",
       "      <th>X</th>\n",
       "      <th>Y</th>\n",
       "      <th>Z</th>\n",
       "    </tr>\n",
       "  </thead>\n",
       "  <tbody>\n",
       "    <tr>\n",
       "      <th>B</th>\n",
       "      <td>-0.171329</td>\n",
       "      <td>-0.304802</td>\n",
       "      <td>0.763991</td>\n",
       "      <td>-0.047478</td>\n",
       "    </tr>\n",
       "    <tr>\n",
       "      <th>C</th>\n",
       "      <td>-0.945343</td>\n",
       "      <td>-0.521526</td>\n",
       "      <td>0.999870</td>\n",
       "      <td>0.220298</td>\n",
       "    </tr>\n",
       "  </tbody>\n",
       "</table>\n",
       "</div>"
      ],
      "text/plain": [
       "          W         X         Y         Z\n",
       "B -0.171329 -0.304802  0.763991 -0.047478\n",
       "C -0.945343 -0.521526  0.999870  0.220298"
      ]
     },
     "execution_count": 13,
     "metadata": {},
     "output_type": "execute_result"
    }
   ],
   "source": [
    "#memanggila data multi baris\n",
    "data.loc[['B','C']]"
   ]
  },
  {
   "cell_type": "code",
   "execution_count": 14,
   "metadata": {},
   "outputs": [
    {
     "data": {
      "text/plain": [
       "-0.18483666966862816"
      ]
     },
     "execution_count": 14,
     "metadata": {},
     "output_type": "execute_result"
    }
   ],
   "source": [
    "#memanggil data tunggal\n",
    "data['X']['D']"
   ]
  },
  {
   "cell_type": "code",
   "execution_count": 15,
   "metadata": {},
   "outputs": [
    {
     "data": {
      "text/html": [
       "<div>\n",
       "<style scoped>\n",
       "    .dataframe tbody tr th:only-of-type {\n",
       "        vertical-align: middle;\n",
       "    }\n",
       "\n",
       "    .dataframe tbody tr th {\n",
       "        vertical-align: top;\n",
       "    }\n",
       "\n",
       "    .dataframe thead th {\n",
       "        text-align: right;\n",
       "    }\n",
       "</style>\n",
       "<table border=\"1\" class=\"dataframe\">\n",
       "  <thead>\n",
       "    <tr style=\"text-align: right;\">\n",
       "      <th></th>\n",
       "      <th>X</th>\n",
       "      <th>Z</th>\n",
       "    </tr>\n",
       "  </thead>\n",
       "  <tbody>\n",
       "    <tr>\n",
       "      <th>A</th>\n",
       "      <td>-0.320971</td>\n",
       "      <td>-0.967314</td>\n",
       "    </tr>\n",
       "    <tr>\n",
       "      <th>B</th>\n",
       "      <td>-0.304802</td>\n",
       "      <td>-0.047478</td>\n",
       "    </tr>\n",
       "    <tr>\n",
       "      <th>D</th>\n",
       "      <td>-0.184837</td>\n",
       "      <td>-0.481762</td>\n",
       "    </tr>\n",
       "  </tbody>\n",
       "</table>\n",
       "</div>"
      ],
      "text/plain": [
       "          X         Z\n",
       "A -0.320971 -0.967314\n",
       "B -0.304802 -0.047478\n",
       "D -0.184837 -0.481762"
      ]
     },
     "execution_count": 15,
     "metadata": {},
     "output_type": "execute_result"
    }
   ],
   "source": [
    "#memanggil sebagian data\n",
    "data.loc[['A','B','D'],['X','Z']]"
   ]
  },
  {
   "cell_type": "markdown",
   "metadata": {},
   "source": [
    "### Conditional Selection"
   ]
  },
  {
   "cell_type": "code",
   "execution_count": 16,
   "metadata": {},
   "outputs": [
    {
     "data": {
      "text/html": [
       "<div>\n",
       "<style scoped>\n",
       "    .dataframe tbody tr th:only-of-type {\n",
       "        vertical-align: middle;\n",
       "    }\n",
       "\n",
       "    .dataframe tbody tr th {\n",
       "        vertical-align: top;\n",
       "    }\n",
       "\n",
       "    .dataframe thead th {\n",
       "        text-align: right;\n",
       "    }\n",
       "</style>\n",
       "<table border=\"1\" class=\"dataframe\">\n",
       "  <thead>\n",
       "    <tr style=\"text-align: right;\">\n",
       "      <th></th>\n",
       "      <th>W</th>\n",
       "      <th>X</th>\n",
       "      <th>Y</th>\n",
       "      <th>Z</th>\n",
       "    </tr>\n",
       "  </thead>\n",
       "  <tbody>\n",
       "    <tr>\n",
       "      <th>A</th>\n",
       "      <td>-1.846495</td>\n",
       "      <td>-0.320971</td>\n",
       "      <td>-0.725434</td>\n",
       "      <td>-0.967314</td>\n",
       "    </tr>\n",
       "    <tr>\n",
       "      <th>B</th>\n",
       "      <td>-0.171329</td>\n",
       "      <td>-0.304802</td>\n",
       "      <td>0.763991</td>\n",
       "      <td>-0.047478</td>\n",
       "    </tr>\n",
       "    <tr>\n",
       "      <th>C</th>\n",
       "      <td>-0.945343</td>\n",
       "      <td>-0.521526</td>\n",
       "      <td>0.999870</td>\n",
       "      <td>0.220298</td>\n",
       "    </tr>\n",
       "    <tr>\n",
       "      <th>D</th>\n",
       "      <td>-0.860445</td>\n",
       "      <td>-0.184837</td>\n",
       "      <td>-0.167988</td>\n",
       "      <td>-0.481762</td>\n",
       "    </tr>\n",
       "    <tr>\n",
       "      <th>E</th>\n",
       "      <td>-1.415819</td>\n",
       "      <td>-0.649598</td>\n",
       "      <td>-1.012776</td>\n",
       "      <td>1.113305</td>\n",
       "    </tr>\n",
       "  </tbody>\n",
       "</table>\n",
       "</div>"
      ],
      "text/plain": [
       "          W         X         Y         Z\n",
       "A -1.846495 -0.320971 -0.725434 -0.967314\n",
       "B -0.171329 -0.304802  0.763991 -0.047478\n",
       "C -0.945343 -0.521526  0.999870  0.220298\n",
       "D -0.860445 -0.184837 -0.167988 -0.481762\n",
       "E -1.415819 -0.649598 -1.012776  1.113305"
      ]
     },
     "execution_count": 16,
     "metadata": {},
     "output_type": "execute_result"
    }
   ],
   "source": [
    "data"
   ]
  },
  {
   "cell_type": "code",
   "execution_count": 17,
   "metadata": {},
   "outputs": [
    {
     "data": {
      "text/html": [
       "<div>\n",
       "<style scoped>\n",
       "    .dataframe tbody tr th:only-of-type {\n",
       "        vertical-align: middle;\n",
       "    }\n",
       "\n",
       "    .dataframe tbody tr th {\n",
       "        vertical-align: top;\n",
       "    }\n",
       "\n",
       "    .dataframe thead th {\n",
       "        text-align: right;\n",
       "    }\n",
       "</style>\n",
       "<table border=\"1\" class=\"dataframe\">\n",
       "  <thead>\n",
       "    <tr style=\"text-align: right;\">\n",
       "      <th></th>\n",
       "      <th>W</th>\n",
       "      <th>X</th>\n",
       "      <th>Y</th>\n",
       "      <th>Z</th>\n",
       "    </tr>\n",
       "  </thead>\n",
       "  <tbody>\n",
       "    <tr>\n",
       "      <th>A</th>\n",
       "      <td>False</td>\n",
       "      <td>False</td>\n",
       "      <td>False</td>\n",
       "      <td>False</td>\n",
       "    </tr>\n",
       "    <tr>\n",
       "      <th>B</th>\n",
       "      <td>False</td>\n",
       "      <td>False</td>\n",
       "      <td>True</td>\n",
       "      <td>False</td>\n",
       "    </tr>\n",
       "    <tr>\n",
       "      <th>C</th>\n",
       "      <td>False</td>\n",
       "      <td>False</td>\n",
       "      <td>True</td>\n",
       "      <td>True</td>\n",
       "    </tr>\n",
       "    <tr>\n",
       "      <th>D</th>\n",
       "      <td>False</td>\n",
       "      <td>False</td>\n",
       "      <td>False</td>\n",
       "      <td>False</td>\n",
       "    </tr>\n",
       "    <tr>\n",
       "      <th>E</th>\n",
       "      <td>False</td>\n",
       "      <td>False</td>\n",
       "      <td>False</td>\n",
       "      <td>True</td>\n",
       "    </tr>\n",
       "  </tbody>\n",
       "</table>\n",
       "</div>"
      ],
      "text/plain": [
       "       W      X      Y      Z\n",
       "A  False  False  False  False\n",
       "B  False  False   True  False\n",
       "C  False  False   True   True\n",
       "D  False  False  False  False\n",
       "E  False  False  False   True"
      ]
     },
     "execution_count": 17,
     "metadata": {},
     "output_type": "execute_result"
    }
   ],
   "source": [
    "#mengecek data yang nilainya lebih dari 0 dengan output boolean\n",
    "data>0"
   ]
  },
  {
   "cell_type": "code",
   "execution_count": 18,
   "metadata": {},
   "outputs": [
    {
     "data": {
      "text/html": [
       "<div>\n",
       "<style scoped>\n",
       "    .dataframe tbody tr th:only-of-type {\n",
       "        vertical-align: middle;\n",
       "    }\n",
       "\n",
       "    .dataframe tbody tr th {\n",
       "        vertical-align: top;\n",
       "    }\n",
       "\n",
       "    .dataframe thead th {\n",
       "        text-align: right;\n",
       "    }\n",
       "</style>\n",
       "<table border=\"1\" class=\"dataframe\">\n",
       "  <thead>\n",
       "    <tr style=\"text-align: right;\">\n",
       "      <th></th>\n",
       "      <th>W</th>\n",
       "      <th>X</th>\n",
       "      <th>Y</th>\n",
       "      <th>Z</th>\n",
       "    </tr>\n",
       "  </thead>\n",
       "  <tbody>\n",
       "    <tr>\n",
       "      <th>A</th>\n",
       "      <td>NaN</td>\n",
       "      <td>NaN</td>\n",
       "      <td>NaN</td>\n",
       "      <td>NaN</td>\n",
       "    </tr>\n",
       "    <tr>\n",
       "      <th>B</th>\n",
       "      <td>NaN</td>\n",
       "      <td>NaN</td>\n",
       "      <td>0.763991</td>\n",
       "      <td>NaN</td>\n",
       "    </tr>\n",
       "    <tr>\n",
       "      <th>C</th>\n",
       "      <td>NaN</td>\n",
       "      <td>NaN</td>\n",
       "      <td>0.999870</td>\n",
       "      <td>0.220298</td>\n",
       "    </tr>\n",
       "    <tr>\n",
       "      <th>D</th>\n",
       "      <td>NaN</td>\n",
       "      <td>NaN</td>\n",
       "      <td>NaN</td>\n",
       "      <td>NaN</td>\n",
       "    </tr>\n",
       "    <tr>\n",
       "      <th>E</th>\n",
       "      <td>NaN</td>\n",
       "      <td>NaN</td>\n",
       "      <td>NaN</td>\n",
       "      <td>1.113305</td>\n",
       "    </tr>\n",
       "  </tbody>\n",
       "</table>\n",
       "</div>"
      ],
      "text/plain": [
       "    W   X         Y         Z\n",
       "A NaN NaN       NaN       NaN\n",
       "B NaN NaN  0.763991       NaN\n",
       "C NaN NaN  0.999870  0.220298\n",
       "D NaN NaN       NaN       NaN\n",
       "E NaN NaN       NaN  1.113305"
      ]
     },
     "execution_count": 18,
     "metadata": {},
     "output_type": "execute_result"
    }
   ],
   "source": [
    "#menampilkan dan menyeleksi data yang nilainya lebih dari 0\n",
    "data[data>0]"
   ]
  },
  {
   "cell_type": "markdown",
   "metadata": {},
   "source": [
    "### Menambah dan Menghapus Baris/Kolom"
   ]
  },
  {
   "cell_type": "markdown",
   "metadata": {},
   "source": [
    "untuk menambah kolom atau baris pada dataframe cukup mudah yaitu dengan membuat variabel index/kolom baru, kemudian untuk menghapus kolom yaitu dengan menggunakan rumus syntax -> namadataframe.drop('namakolom',axis=1,inplace=True). Untuk menghapus baris yaitu dengan menggunakan rumus syntax -> namadataframe.drop('namabaris',axis=0,inplace=True).\n",
    "\n",
    "catatan :\n",
    "\n",
    "- jumlah kolom/baris yang ditambahkan harus sama dengan format ukuran awal\n",
    "- inplace berisikan boolean, jika True maka dihapus permanen dan jika False atau tidak ditulis hanya dihapus sementara.\n",
    "- axis = 1 untuk kolom dan axis = 0 untuk baris"
   ]
  },
  {
   "cell_type": "code",
   "execution_count": 19,
   "metadata": {},
   "outputs": [],
   "source": [
    "#menambah kolom\n",
    "data['kolom baru']=[1,2,3,4,5]"
   ]
  },
  {
   "cell_type": "code",
   "execution_count": 20,
   "metadata": {},
   "outputs": [
    {
     "data": {
      "text/html": [
       "<div>\n",
       "<style scoped>\n",
       "    .dataframe tbody tr th:only-of-type {\n",
       "        vertical-align: middle;\n",
       "    }\n",
       "\n",
       "    .dataframe tbody tr th {\n",
       "        vertical-align: top;\n",
       "    }\n",
       "\n",
       "    .dataframe thead th {\n",
       "        text-align: right;\n",
       "    }\n",
       "</style>\n",
       "<table border=\"1\" class=\"dataframe\">\n",
       "  <thead>\n",
       "    <tr style=\"text-align: right;\">\n",
       "      <th></th>\n",
       "      <th>W</th>\n",
       "      <th>X</th>\n",
       "      <th>Y</th>\n",
       "      <th>Z</th>\n",
       "      <th>kolom baru</th>\n",
       "    </tr>\n",
       "  </thead>\n",
       "  <tbody>\n",
       "    <tr>\n",
       "      <th>A</th>\n",
       "      <td>-1.846495</td>\n",
       "      <td>-0.320971</td>\n",
       "      <td>-0.725434</td>\n",
       "      <td>-0.967314</td>\n",
       "      <td>1</td>\n",
       "    </tr>\n",
       "    <tr>\n",
       "      <th>B</th>\n",
       "      <td>-0.171329</td>\n",
       "      <td>-0.304802</td>\n",
       "      <td>0.763991</td>\n",
       "      <td>-0.047478</td>\n",
       "      <td>2</td>\n",
       "    </tr>\n",
       "    <tr>\n",
       "      <th>C</th>\n",
       "      <td>-0.945343</td>\n",
       "      <td>-0.521526</td>\n",
       "      <td>0.999870</td>\n",
       "      <td>0.220298</td>\n",
       "      <td>3</td>\n",
       "    </tr>\n",
       "    <tr>\n",
       "      <th>D</th>\n",
       "      <td>-0.860445</td>\n",
       "      <td>-0.184837</td>\n",
       "      <td>-0.167988</td>\n",
       "      <td>-0.481762</td>\n",
       "      <td>4</td>\n",
       "    </tr>\n",
       "    <tr>\n",
       "      <th>E</th>\n",
       "      <td>-1.415819</td>\n",
       "      <td>-0.649598</td>\n",
       "      <td>-1.012776</td>\n",
       "      <td>1.113305</td>\n",
       "      <td>5</td>\n",
       "    </tr>\n",
       "  </tbody>\n",
       "</table>\n",
       "</div>"
      ],
      "text/plain": [
       "          W         X         Y         Z  kolom baru\n",
       "A -1.846495 -0.320971 -0.725434 -0.967314           1\n",
       "B -0.171329 -0.304802  0.763991 -0.047478           2\n",
       "C -0.945343 -0.521526  0.999870  0.220298           3\n",
       "D -0.860445 -0.184837 -0.167988 -0.481762           4\n",
       "E -1.415819 -0.649598 -1.012776  1.113305           5"
      ]
     },
     "execution_count": 20,
     "metadata": {},
     "output_type": "execute_result"
    }
   ],
   "source": [
    "data"
   ]
  },
  {
   "cell_type": "code",
   "execution_count": 21,
   "metadata": {},
   "outputs": [],
   "source": [
    "#menghapus kolom\n",
    "data.drop('kolom baru',axis=1,inplace=True)"
   ]
  },
  {
   "cell_type": "code",
   "execution_count": 22,
   "metadata": {},
   "outputs": [
    {
     "data": {
      "text/html": [
       "<div>\n",
       "<style scoped>\n",
       "    .dataframe tbody tr th:only-of-type {\n",
       "        vertical-align: middle;\n",
       "    }\n",
       "\n",
       "    .dataframe tbody tr th {\n",
       "        vertical-align: top;\n",
       "    }\n",
       "\n",
       "    .dataframe thead th {\n",
       "        text-align: right;\n",
       "    }\n",
       "</style>\n",
       "<table border=\"1\" class=\"dataframe\">\n",
       "  <thead>\n",
       "    <tr style=\"text-align: right;\">\n",
       "      <th></th>\n",
       "      <th>W</th>\n",
       "      <th>X</th>\n",
       "      <th>Y</th>\n",
       "      <th>Z</th>\n",
       "    </tr>\n",
       "  </thead>\n",
       "  <tbody>\n",
       "    <tr>\n",
       "      <th>A</th>\n",
       "      <td>-1.846495</td>\n",
       "      <td>-0.320971</td>\n",
       "      <td>-0.725434</td>\n",
       "      <td>-0.967314</td>\n",
       "    </tr>\n",
       "    <tr>\n",
       "      <th>B</th>\n",
       "      <td>-0.171329</td>\n",
       "      <td>-0.304802</td>\n",
       "      <td>0.763991</td>\n",
       "      <td>-0.047478</td>\n",
       "    </tr>\n",
       "    <tr>\n",
       "      <th>C</th>\n",
       "      <td>-0.945343</td>\n",
       "      <td>-0.521526</td>\n",
       "      <td>0.999870</td>\n",
       "      <td>0.220298</td>\n",
       "    </tr>\n",
       "    <tr>\n",
       "      <th>D</th>\n",
       "      <td>-0.860445</td>\n",
       "      <td>-0.184837</td>\n",
       "      <td>-0.167988</td>\n",
       "      <td>-0.481762</td>\n",
       "    </tr>\n",
       "    <tr>\n",
       "      <th>E</th>\n",
       "      <td>-1.415819</td>\n",
       "      <td>-0.649598</td>\n",
       "      <td>-1.012776</td>\n",
       "      <td>1.113305</td>\n",
       "    </tr>\n",
       "  </tbody>\n",
       "</table>\n",
       "</div>"
      ],
      "text/plain": [
       "          W         X         Y         Z\n",
       "A -1.846495 -0.320971 -0.725434 -0.967314\n",
       "B -0.171329 -0.304802  0.763991 -0.047478\n",
       "C -0.945343 -0.521526  0.999870  0.220298\n",
       "D -0.860445 -0.184837 -0.167988 -0.481762\n",
       "E -1.415819 -0.649598 -1.012776  1.113305"
      ]
     },
     "execution_count": 22,
     "metadata": {},
     "output_type": "execute_result"
    }
   ],
   "source": [
    "data"
   ]
  },
  {
   "cell_type": "code",
   "execution_count": 23,
   "metadata": {},
   "outputs": [],
   "source": [
    "#menambah baris\n",
    "data.loc['F']=[4,5,6,7]"
   ]
  },
  {
   "cell_type": "code",
   "execution_count": 24,
   "metadata": {},
   "outputs": [
    {
     "data": {
      "text/html": [
       "<div>\n",
       "<style scoped>\n",
       "    .dataframe tbody tr th:only-of-type {\n",
       "        vertical-align: middle;\n",
       "    }\n",
       "\n",
       "    .dataframe tbody tr th {\n",
       "        vertical-align: top;\n",
       "    }\n",
       "\n",
       "    .dataframe thead th {\n",
       "        text-align: right;\n",
       "    }\n",
       "</style>\n",
       "<table border=\"1\" class=\"dataframe\">\n",
       "  <thead>\n",
       "    <tr style=\"text-align: right;\">\n",
       "      <th></th>\n",
       "      <th>W</th>\n",
       "      <th>X</th>\n",
       "      <th>Y</th>\n",
       "      <th>Z</th>\n",
       "    </tr>\n",
       "  </thead>\n",
       "  <tbody>\n",
       "    <tr>\n",
       "      <th>A</th>\n",
       "      <td>-1.846495</td>\n",
       "      <td>-0.320971</td>\n",
       "      <td>-0.725434</td>\n",
       "      <td>-0.967314</td>\n",
       "    </tr>\n",
       "    <tr>\n",
       "      <th>B</th>\n",
       "      <td>-0.171329</td>\n",
       "      <td>-0.304802</td>\n",
       "      <td>0.763991</td>\n",
       "      <td>-0.047478</td>\n",
       "    </tr>\n",
       "    <tr>\n",
       "      <th>C</th>\n",
       "      <td>-0.945343</td>\n",
       "      <td>-0.521526</td>\n",
       "      <td>0.999870</td>\n",
       "      <td>0.220298</td>\n",
       "    </tr>\n",
       "    <tr>\n",
       "      <th>D</th>\n",
       "      <td>-0.860445</td>\n",
       "      <td>-0.184837</td>\n",
       "      <td>-0.167988</td>\n",
       "      <td>-0.481762</td>\n",
       "    </tr>\n",
       "    <tr>\n",
       "      <th>E</th>\n",
       "      <td>-1.415819</td>\n",
       "      <td>-0.649598</td>\n",
       "      <td>-1.012776</td>\n",
       "      <td>1.113305</td>\n",
       "    </tr>\n",
       "    <tr>\n",
       "      <th>F</th>\n",
       "      <td>4.000000</td>\n",
       "      <td>5.000000</td>\n",
       "      <td>6.000000</td>\n",
       "      <td>7.000000</td>\n",
       "    </tr>\n",
       "  </tbody>\n",
       "</table>\n",
       "</div>"
      ],
      "text/plain": [
       "          W         X         Y         Z\n",
       "A -1.846495 -0.320971 -0.725434 -0.967314\n",
       "B -0.171329 -0.304802  0.763991 -0.047478\n",
       "C -0.945343 -0.521526  0.999870  0.220298\n",
       "D -0.860445 -0.184837 -0.167988 -0.481762\n",
       "E -1.415819 -0.649598 -1.012776  1.113305\n",
       "F  4.000000  5.000000  6.000000  7.000000"
      ]
     },
     "execution_count": 24,
     "metadata": {},
     "output_type": "execute_result"
    }
   ],
   "source": [
    "data"
   ]
  },
  {
   "cell_type": "code",
   "execution_count": 25,
   "metadata": {},
   "outputs": [],
   "source": [
    "data.drop('F',axis=0,inplace=True)"
   ]
  },
  {
   "cell_type": "code",
   "execution_count": 26,
   "metadata": {},
   "outputs": [
    {
     "data": {
      "text/html": [
       "<div>\n",
       "<style scoped>\n",
       "    .dataframe tbody tr th:only-of-type {\n",
       "        vertical-align: middle;\n",
       "    }\n",
       "\n",
       "    .dataframe tbody tr th {\n",
       "        vertical-align: top;\n",
       "    }\n",
       "\n",
       "    .dataframe thead th {\n",
       "        text-align: right;\n",
       "    }\n",
       "</style>\n",
       "<table border=\"1\" class=\"dataframe\">\n",
       "  <thead>\n",
       "    <tr style=\"text-align: right;\">\n",
       "      <th></th>\n",
       "      <th>W</th>\n",
       "      <th>X</th>\n",
       "      <th>Y</th>\n",
       "      <th>Z</th>\n",
       "    </tr>\n",
       "  </thead>\n",
       "  <tbody>\n",
       "    <tr>\n",
       "      <th>A</th>\n",
       "      <td>-1.846495</td>\n",
       "      <td>-0.320971</td>\n",
       "      <td>-0.725434</td>\n",
       "      <td>-0.967314</td>\n",
       "    </tr>\n",
       "    <tr>\n",
       "      <th>B</th>\n",
       "      <td>-0.171329</td>\n",
       "      <td>-0.304802</td>\n",
       "      <td>0.763991</td>\n",
       "      <td>-0.047478</td>\n",
       "    </tr>\n",
       "    <tr>\n",
       "      <th>C</th>\n",
       "      <td>-0.945343</td>\n",
       "      <td>-0.521526</td>\n",
       "      <td>0.999870</td>\n",
       "      <td>0.220298</td>\n",
       "    </tr>\n",
       "    <tr>\n",
       "      <th>D</th>\n",
       "      <td>-0.860445</td>\n",
       "      <td>-0.184837</td>\n",
       "      <td>-0.167988</td>\n",
       "      <td>-0.481762</td>\n",
       "    </tr>\n",
       "    <tr>\n",
       "      <th>E</th>\n",
       "      <td>-1.415819</td>\n",
       "      <td>-0.649598</td>\n",
       "      <td>-1.012776</td>\n",
       "      <td>1.113305</td>\n",
       "    </tr>\n",
       "  </tbody>\n",
       "</table>\n",
       "</div>"
      ],
      "text/plain": [
       "          W         X         Y         Z\n",
       "A -1.846495 -0.320971 -0.725434 -0.967314\n",
       "B -0.171329 -0.304802  0.763991 -0.047478\n",
       "C -0.945343 -0.521526  0.999870  0.220298\n",
       "D -0.860445 -0.184837 -0.167988 -0.481762\n",
       "E -1.415819 -0.649598 -1.012776  1.113305"
      ]
     },
     "execution_count": 26,
     "metadata": {},
     "output_type": "execute_result"
    }
   ],
   "source": [
    "data"
   ]
  },
  {
   "cell_type": "markdown",
   "metadata": {},
   "source": [
    "# Data Kosong (NaN)"
   ]
  },
  {
   "cell_type": "markdown",
   "metadata": {},
   "source": [
    "Data kosong atau biasa dikenal dengan NaN merupakan sebuah data yang tidak memiliki value, dimana NaN ini dapat mengganggu proses analisis data. Oleh karena itu, ada beberapa solusi untuk mengatasinya yaitu dengan cara :\n",
    "\n",
    "- menghapus kolom yang memiliki nilai kosong\n",
    "- menghapus baris yang memiliki nilai kosong\n",
    "- mengisi nilai NaN pada data frame"
   ]
  },
  {
   "cell_type": "code",
   "execution_count": 27,
   "metadata": {},
   "outputs": [],
   "source": [
    "#membuat sample data frame dengan data kosong\n",
    "df = pd.DataFrame({'A':[1,2,np.nan],\n",
    "                  'B':[5,np.nan,np.nan],\n",
    "                  'C':[1,2,3]})"
   ]
  },
  {
   "cell_type": "code",
   "execution_count": 28,
   "metadata": {},
   "outputs": [
    {
     "data": {
      "text/html": [
       "<div>\n",
       "<style scoped>\n",
       "    .dataframe tbody tr th:only-of-type {\n",
       "        vertical-align: middle;\n",
       "    }\n",
       "\n",
       "    .dataframe tbody tr th {\n",
       "        vertical-align: top;\n",
       "    }\n",
       "\n",
       "    .dataframe thead th {\n",
       "        text-align: right;\n",
       "    }\n",
       "</style>\n",
       "<table border=\"1\" class=\"dataframe\">\n",
       "  <thead>\n",
       "    <tr style=\"text-align: right;\">\n",
       "      <th></th>\n",
       "      <th>A</th>\n",
       "      <th>B</th>\n",
       "      <th>C</th>\n",
       "    </tr>\n",
       "  </thead>\n",
       "  <tbody>\n",
       "    <tr>\n",
       "      <th>0</th>\n",
       "      <td>1.0</td>\n",
       "      <td>5.0</td>\n",
       "      <td>1</td>\n",
       "    </tr>\n",
       "    <tr>\n",
       "      <th>1</th>\n",
       "      <td>2.0</td>\n",
       "      <td>NaN</td>\n",
       "      <td>2</td>\n",
       "    </tr>\n",
       "    <tr>\n",
       "      <th>2</th>\n",
       "      <td>NaN</td>\n",
       "      <td>NaN</td>\n",
       "      <td>3</td>\n",
       "    </tr>\n",
       "  </tbody>\n",
       "</table>\n",
       "</div>"
      ],
      "text/plain": [
       "     A    B  C\n",
       "0  1.0  5.0  1\n",
       "1  2.0  NaN  2\n",
       "2  NaN  NaN  3"
      ]
     },
     "execution_count": 28,
     "metadata": {},
     "output_type": "execute_result"
    }
   ],
   "source": [
    "df"
   ]
  },
  {
   "cell_type": "code",
   "execution_count": 29,
   "metadata": {},
   "outputs": [
    {
     "data": {
      "text/html": [
       "<div>\n",
       "<style scoped>\n",
       "    .dataframe tbody tr th:only-of-type {\n",
       "        vertical-align: middle;\n",
       "    }\n",
       "\n",
       "    .dataframe tbody tr th {\n",
       "        vertical-align: top;\n",
       "    }\n",
       "\n",
       "    .dataframe thead th {\n",
       "        text-align: right;\n",
       "    }\n",
       "</style>\n",
       "<table border=\"1\" class=\"dataframe\">\n",
       "  <thead>\n",
       "    <tr style=\"text-align: right;\">\n",
       "      <th></th>\n",
       "      <th>C</th>\n",
       "    </tr>\n",
       "  </thead>\n",
       "  <tbody>\n",
       "    <tr>\n",
       "      <th>0</th>\n",
       "      <td>1</td>\n",
       "    </tr>\n",
       "    <tr>\n",
       "      <th>1</th>\n",
       "      <td>2</td>\n",
       "    </tr>\n",
       "    <tr>\n",
       "      <th>2</th>\n",
       "      <td>3</td>\n",
       "    </tr>\n",
       "  </tbody>\n",
       "</table>\n",
       "</div>"
      ],
      "text/plain": [
       "   C\n",
       "0  1\n",
       "1  2\n",
       "2  3"
      ]
     },
     "execution_count": 29,
     "metadata": {},
     "output_type": "execute_result"
    }
   ],
   "source": [
    "#menghapus kolom yang memiliki nilai kosong\n",
    "df.dropna(axis=1)"
   ]
  },
  {
   "cell_type": "code",
   "execution_count": 30,
   "metadata": {},
   "outputs": [
    {
     "data": {
      "text/html": [
       "<div>\n",
       "<style scoped>\n",
       "    .dataframe tbody tr th:only-of-type {\n",
       "        vertical-align: middle;\n",
       "    }\n",
       "\n",
       "    .dataframe tbody tr th {\n",
       "        vertical-align: top;\n",
       "    }\n",
       "\n",
       "    .dataframe thead th {\n",
       "        text-align: right;\n",
       "    }\n",
       "</style>\n",
       "<table border=\"1\" class=\"dataframe\">\n",
       "  <thead>\n",
       "    <tr style=\"text-align: right;\">\n",
       "      <th></th>\n",
       "      <th>A</th>\n",
       "      <th>B</th>\n",
       "      <th>C</th>\n",
       "    </tr>\n",
       "  </thead>\n",
       "  <tbody>\n",
       "    <tr>\n",
       "      <th>0</th>\n",
       "      <td>1.0</td>\n",
       "      <td>5.0</td>\n",
       "      <td>1</td>\n",
       "    </tr>\n",
       "  </tbody>\n",
       "</table>\n",
       "</div>"
      ],
      "text/plain": [
       "     A    B  C\n",
       "0  1.0  5.0  1"
      ]
     },
     "execution_count": 30,
     "metadata": {},
     "output_type": "execute_result"
    }
   ],
   "source": [
    "#menghapus baris yang memiliki nilai kosong\n",
    "df.dropna(axis=0)"
   ]
  },
  {
   "cell_type": "code",
   "execution_count": 31,
   "metadata": {},
   "outputs": [
    {
     "data": {
      "text/html": [
       "<div>\n",
       "<style scoped>\n",
       "    .dataframe tbody tr th:only-of-type {\n",
       "        vertical-align: middle;\n",
       "    }\n",
       "\n",
       "    .dataframe tbody tr th {\n",
       "        vertical-align: top;\n",
       "    }\n",
       "\n",
       "    .dataframe thead th {\n",
       "        text-align: right;\n",
       "    }\n",
       "</style>\n",
       "<table border=\"1\" class=\"dataframe\">\n",
       "  <thead>\n",
       "    <tr style=\"text-align: right;\">\n",
       "      <th></th>\n",
       "      <th>A</th>\n",
       "      <th>B</th>\n",
       "      <th>C</th>\n",
       "    </tr>\n",
       "  </thead>\n",
       "  <tbody>\n",
       "    <tr>\n",
       "      <th>0</th>\n",
       "      <td>1</td>\n",
       "      <td>5</td>\n",
       "      <td>1</td>\n",
       "    </tr>\n",
       "    <tr>\n",
       "      <th>1</th>\n",
       "      <td>2</td>\n",
       "      <td>100</td>\n",
       "      <td>2</td>\n",
       "    </tr>\n",
       "    <tr>\n",
       "      <th>2</th>\n",
       "      <td>100</td>\n",
       "      <td>100</td>\n",
       "      <td>3</td>\n",
       "    </tr>\n",
       "  </tbody>\n",
       "</table>\n",
       "</div>"
      ],
      "text/plain": [
       "     A    B  C\n",
       "0    1    5  1\n",
       "1    2  100  2\n",
       "2  100  100  3"
      ]
     },
     "execution_count": 31,
     "metadata": {},
     "output_type": "execute_result"
    }
   ],
   "source": [
    "#mengisi nilai NaN pada data frame dengan nilai tertentu, contoh : 100\n",
    "df.fillna(value='100')"
   ]
  },
  {
   "cell_type": "markdown",
   "metadata": {},
   "source": [
    "## Selamat Mencoba"
   ]
  }
 ],
 "metadata": {
  "kernelspec": {
   "display_name": "Python 3",
   "language": "python",
   "name": "python3"
  },
  "language_info": {
   "codemirror_mode": {
    "name": "ipython",
    "version": 3
   },
   "file_extension": ".py",
   "mimetype": "text/x-python",
   "name": "python",
   "nbconvert_exporter": "python",
   "pygments_lexer": "ipython3",
   "version": "3.8.3"
  }
 },
 "nbformat": 4,
 "nbformat_minor": 4
}
