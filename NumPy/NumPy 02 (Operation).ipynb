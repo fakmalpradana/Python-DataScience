{
 "cells": [
  {
   "cell_type": "markdown",
   "metadata": {},
   "source": [
    "<img src = coverpage.png />\n",
    "\n",
    "# NumPy"
   ]
  },
  {
   "cell_type": "markdown",
   "metadata": {},
   "source": [
    "NumPy adalah salah satu library python yang berisikan operasi aljabar linear (matrix, array, dan operasi aljabar lain). Dalam data science, library ini merupakan salah satu library yang sering digunakan pada umumnya, pada modul ini akan diberikan penjelasan serta contoh syntax dengan menggunakan library NumPy."
   ]
  },
  {
   "cell_type": "markdown",
   "metadata": {},
   "source": [
    "Pada modul sebelumnya telah dijelaskan mengenai array, selanjutnya pada modul ini akan dilanjutkan dengan 'operation' dengan library NumPy. Adapun beberapa operasi yang akan dibahas kali ini adalah :\n",
    "1. Indexing\n",
    "2. Selection\n",
    "3. Operasi aritmatika\n",
    "4. Array function"
   ]
  },
  {
   "cell_type": "code",
   "execution_count": 1,
   "metadata": {},
   "outputs": [],
   "source": [
    "import numpy as np"
   ]
  },
  {
   "cell_type": "markdown",
   "metadata": {},
   "source": [
    "## Indexing dan Selection"
   ]
  },
  {
   "cell_type": "markdown",
   "metadata": {},
   "source": [
    "Dalam sebuah baris atau array terdapat sebuah index, atau sebuah sistem penomoran value yang terdapat didalamnya. Pada sistem indexing dalam NumPy ini index pertama merupakan urutan index 0. Index juga diperlukan untuk operasi seleksi, untuk lebih jelasnya bisa dilihat dibawah ini."
   ]
  },
  {
   "cell_type": "code",
   "execution_count": 2,
   "metadata": {},
   "outputs": [],
   "source": [
    "ar = np.arange(1,10)"
   ]
  },
  {
   "cell_type": "code",
   "execution_count": 3,
   "metadata": {},
   "outputs": [
    {
     "data": {
      "text/plain": [
       "array([1, 2, 3, 4, 5, 6, 7, 8, 9])"
      ]
     },
     "execution_count": 3,
     "metadata": {},
     "output_type": "execute_result"
    }
   ],
   "source": [
    "ar"
   ]
  },
  {
   "cell_type": "markdown",
   "metadata": {},
   "source": [
    "Pada array diatas terdapat value 1,2,3,...,9 dan untuk index nilai 1 adalah 0, kemudian index nilai 9 adalah 8, dikarenakan index selalu diawali dari urutan 0 bukan 1. Agar lebih mudah memahami, berikut adalah ilustrasi index dan value dalam sebuah array.\n",
    "\n",
    "<img src = 'https://encrypted-tbn0.gstatic.com/images?q=tbn:ANd9GcRptIGwXqhkAlPELVi5j81W2M-PRXCEL6sQIQ&usqp=CAU' />\n",
    "\n",
    "Kemudian untuk membuktikannya, dibawah ini akan dicoba untuk memanggil array dengan ketentuan index sebagai berikut :\n",
    "1. index pertama / index 0 \n",
    "2. index terakhir / index 8\n",
    "3. index ke-5 dan setelahnya\n",
    "4. index ke-4 dan sebelumnya"
   ]
  },
  {
   "cell_type": "code",
   "execution_count": 4,
   "metadata": {},
   "outputs": [
    {
     "data": {
      "text/plain": [
       "1"
      ]
     },
     "execution_count": 4,
     "metadata": {},
     "output_type": "execute_result"
    }
   ],
   "source": [
    "#index pertama\n",
    "ar[0]"
   ]
  },
  {
   "cell_type": "code",
   "execution_count": 5,
   "metadata": {},
   "outputs": [
    {
     "data": {
      "text/plain": [
       "9"
      ]
     },
     "execution_count": 5,
     "metadata": {},
     "output_type": "execute_result"
    }
   ],
   "source": [
    "#index terakhir\n",
    "ar[8]"
   ]
  },
  {
   "cell_type": "code",
   "execution_count": 6,
   "metadata": {},
   "outputs": [
    {
     "data": {
      "text/plain": [
       "array([6, 7, 8, 9])"
      ]
     },
     "execution_count": 6,
     "metadata": {},
     "output_type": "execute_result"
    }
   ],
   "source": [
    "#index ke-5 dan setelahnya\n",
    "ar[5:]"
   ]
  },
  {
   "cell_type": "code",
   "execution_count": 7,
   "metadata": {},
   "outputs": [
    {
     "data": {
      "text/plain": [
       "array([1, 2, 3, 4])"
      ]
     },
     "execution_count": 7,
     "metadata": {},
     "output_type": "execute_result"
    }
   ],
   "source": [
    "#index ke-4 dan sebelumnya\n",
    "ar[:4]"
   ]
  },
  {
   "cell_type": "markdown",
   "metadata": {},
   "source": [
    "Untuk pemanggilan array dengan syntax ar[n:] akan menghasilkan output array dari index ke-n hingga terakhir, sebaliknya jika ingin memanggil index array ke-n dan sebelumnya maka syntax yang ditulis dalah arr[:n]. Kesimpulannya, jika ingin memanggil array dengan index pertama hingga ke-n maka rumus penulisan syntax nya yaitu tanda ':' kemudian tuliskan index 'n', jika ingin memanggil array dengan index ke-n hingga terakhir maka akan berlaku sebaliknya, yaitu tuliskan index 'n' dahulu kemudian tanda ':' \n",
    "\n",
    "Kemudian selanjutnya akan dicontohkan indexing pada matrix. Pada matrix dengan dimensi (n,n) konsep penulisan syntax adalah sebagai berikut\n",
    "\n",
    "<img src = 'data:image/png;base64,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' />"
   ]
  },
  {
   "cell_type": "code",
   "execution_count": 8,
   "metadata": {},
   "outputs": [],
   "source": [
    "#indexing array 2D\n",
    "ar2 = np.array([[1,2,3],[4,5,6]])"
   ]
  },
  {
   "cell_type": "code",
   "execution_count": 9,
   "metadata": {},
   "outputs": [
    {
     "data": {
      "text/plain": [
       "array([[1, 2, 3],\n",
       "       [4, 5, 6]])"
      ]
     },
     "execution_count": 9,
     "metadata": {},
     "output_type": "execute_result"
    }
   ],
   "source": [
    "ar2"
   ]
  },
  {
   "cell_type": "code",
   "execution_count": 10,
   "metadata": {},
   "outputs": [
    {
     "data": {
      "text/plain": [
       "3"
      ]
     },
     "execution_count": 10,
     "metadata": {},
     "output_type": "execute_result"
    }
   ],
   "source": [
    "ar2[0][2]"
   ]
  },
  {
   "cell_type": "code",
   "execution_count": 11,
   "metadata": {},
   "outputs": [
    {
     "data": {
      "text/plain": [
       "array([4, 5, 6])"
      ]
     },
     "execution_count": 11,
     "metadata": {},
     "output_type": "execute_result"
    }
   ],
   "source": [
    "ar2[1][:]"
   ]
  },
  {
   "cell_type": "markdown",
   "metadata": {},
   "source": [
    "## Operasi Aritmatika"
   ]
  },
  {
   "cell_type": "markdown",
   "metadata": {},
   "source": [
    "Dalam operasi aritmatika, array yang telah didefinisikan dapat dilakukan operasi seperti penjumpahan, pengurangan, perkalian, pembagian, dan pemangkatan dengan sebuah array atau dengan bilangan konstanta. "
   ]
  },
  {
   "cell_type": "code",
   "execution_count": 12,
   "metadata": {},
   "outputs": [
    {
     "data": {
      "text/plain": [
       "array([1, 2, 3, 4, 5, 6, 7, 8, 9])"
      ]
     },
     "execution_count": 12,
     "metadata": {},
     "output_type": "execute_result"
    }
   ],
   "source": [
    "ar"
   ]
  },
  {
   "cell_type": "code",
   "execution_count": 13,
   "metadata": {},
   "outputs": [
    {
     "data": {
      "text/plain": [
       "array([ 2,  4,  6,  8, 10, 12, 14, 16, 18])"
      ]
     },
     "execution_count": 13,
     "metadata": {},
     "output_type": "execute_result"
    }
   ],
   "source": [
    "ar + ar"
   ]
  },
  {
   "cell_type": "code",
   "execution_count": 14,
   "metadata": {},
   "outputs": [
    {
     "data": {
      "text/plain": [
       "array([ 3,  6,  9, 12, 15, 18, 21, 24, 27])"
      ]
     },
     "execution_count": 14,
     "metadata": {},
     "output_type": "execute_result"
    }
   ],
   "source": [
    "ar*3"
   ]
  },
  {
   "cell_type": "code",
   "execution_count": 15,
   "metadata": {},
   "outputs": [
    {
     "data": {
      "text/plain": [
       "array([-3, -2, -1,  0,  1,  2,  3,  4,  5])"
      ]
     },
     "execution_count": 15,
     "metadata": {},
     "output_type": "execute_result"
    }
   ],
   "source": [
    "ar - 4"
   ]
  },
  {
   "cell_type": "code",
   "execution_count": 16,
   "metadata": {},
   "outputs": [
    {
     "data": {
      "text/plain": [
       "array([ 1,  4,  9, 16, 25, 36, 49, 64, 81])"
      ]
     },
     "execution_count": 16,
     "metadata": {},
     "output_type": "execute_result"
    }
   ],
   "source": [
    "ar*ar"
   ]
  },
  {
   "cell_type": "code",
   "execution_count": 17,
   "metadata": {},
   "outputs": [
    {
     "data": {
      "text/plain": [
       "array([0.1, 0.2, 0.3, 0.4, 0.5, 0.6, 0.7, 0.8, 0.9])"
      ]
     },
     "execution_count": 17,
     "metadata": {},
     "output_type": "execute_result"
    }
   ],
   "source": [
    "ar/10"
   ]
  },
  {
   "cell_type": "code",
   "execution_count": 18,
   "metadata": {},
   "outputs": [
    {
     "data": {
      "text/plain": [
       "array([  1,   8,  27,  64, 125, 216, 343, 512, 729], dtype=int32)"
      ]
     },
     "execution_count": 18,
     "metadata": {},
     "output_type": "execute_result"
    }
   ],
   "source": [
    "ar**3"
   ]
  },
  {
   "cell_type": "code",
   "execution_count": 19,
   "metadata": {},
   "outputs": [
    {
     "data": {
      "text/plain": [
       "array([1, 2, 0, 1, 2, 0, 1, 2, 0], dtype=int32)"
      ]
     },
     "execution_count": 19,
     "metadata": {},
     "output_type": "execute_result"
    }
   ],
   "source": [
    "ar%3"
   ]
  },
  {
   "cell_type": "markdown",
   "metadata": {},
   "source": [
    "## Array Function"
   ]
  },
  {
   "cell_type": "markdown",
   "metadata": {},
   "source": [
    "Array function merupakan fungsi fungsi yang dapat diterapkan pada array, contohnya seperti mencari nilai maksimum, mencari nilai minimum, fungsi trigonometri, fungsi exponensial, dll."
   ]
  },
  {
   "cell_type": "markdown",
   "metadata": {},
   "source": [
    "### mencari nilai maksimum, minimum dan rata rata"
   ]
  },
  {
   "cell_type": "code",
   "execution_count": 20,
   "metadata": {},
   "outputs": [],
   "source": [
    "arr = np.random.randint(1,20,10)"
   ]
  },
  {
   "cell_type": "code",
   "execution_count": 21,
   "metadata": {},
   "outputs": [
    {
     "data": {
      "text/plain": [
       "array([15, 19, 14, 16, 18,  5, 13, 14,  6, 19])"
      ]
     },
     "execution_count": 21,
     "metadata": {},
     "output_type": "execute_result"
    }
   ],
   "source": [
    "arr"
   ]
  },
  {
   "cell_type": "code",
   "execution_count": 22,
   "metadata": {},
   "outputs": [
    {
     "name": "stdout",
     "output_type": "stream",
     "text": [
      "nilai maksimum =  19\n"
     ]
    }
   ],
   "source": [
    "print('nilai maksimum = ', arr.max())"
   ]
  },
  {
   "cell_type": "code",
   "execution_count": 23,
   "metadata": {},
   "outputs": [
    {
     "name": "stdout",
     "output_type": "stream",
     "text": [
      "nilai minimum =  5\n"
     ]
    }
   ],
   "source": [
    "print('nilai minimum = ', arr.min())"
   ]
  },
  {
   "cell_type": "code",
   "execution_count": 24,
   "metadata": {},
   "outputs": [
    {
     "name": "stdout",
     "output_type": "stream",
     "text": [
      "nilai rata rata =  13.9\n"
     ]
    }
   ],
   "source": [
    "print('nilai rata rata = ',arr.mean())"
   ]
  },
  {
   "cell_type": "markdown",
   "metadata": {},
   "source": [
    "### fungsi exponensial dan pengakaran"
   ]
  },
  {
   "cell_type": "code",
   "execution_count": 25,
   "metadata": {},
   "outputs": [
    {
     "data": {
      "text/plain": [
       "array([1, 2, 3, 4, 5, 6, 7, 8, 9])"
      ]
     },
     "execution_count": 25,
     "metadata": {},
     "output_type": "execute_result"
    }
   ],
   "source": [
    "ar"
   ]
  },
  {
   "cell_type": "code",
   "execution_count": 26,
   "metadata": {},
   "outputs": [
    {
     "data": {
      "text/plain": [
       "array([2.71828183e+00, 7.38905610e+00, 2.00855369e+01, 5.45981500e+01,\n",
       "       1.48413159e+02, 4.03428793e+02, 1.09663316e+03, 2.98095799e+03,\n",
       "       8.10308393e+03])"
      ]
     },
     "execution_count": 26,
     "metadata": {},
     "output_type": "execute_result"
    }
   ],
   "source": [
    "#operasi exponensial dengan bilangan e\n",
    "np.exp(ar)"
   ]
  },
  {
   "cell_type": "code",
   "execution_count": 27,
   "metadata": {},
   "outputs": [
    {
     "data": {
      "text/plain": [
       "array([1.        , 1.41421356, 1.73205081, 2.        , 2.23606798,\n",
       "       2.44948974, 2.64575131, 2.82842712, 3.        ])"
      ]
     },
     "execution_count": 27,
     "metadata": {},
     "output_type": "execute_result"
    }
   ],
   "source": [
    "#operasi pengakaran kuadrat\n",
    "np.sqrt(ar)"
   ]
  },
  {
   "cell_type": "code",
   "execution_count": 28,
   "metadata": {},
   "outputs": [
    {
     "data": {
      "text/plain": [
       "array([0.        , 0.69314718, 1.09861229, 1.38629436, 1.60943791,\n",
       "       1.79175947, 1.94591015, 2.07944154, 2.19722458])"
      ]
     },
     "execution_count": 28,
     "metadata": {},
     "output_type": "execute_result"
    }
   ],
   "source": [
    "#fungsi logaritma\n",
    "np.log(ar)"
   ]
  },
  {
   "cell_type": "markdown",
   "metadata": {},
   "source": [
    "### fungsi trigonometri"
   ]
  },
  {
   "cell_type": "code",
   "execution_count": 29,
   "metadata": {},
   "outputs": [],
   "source": [
    "x = np.array([0,15,30,45,60,75,90])\n",
    "sudut = np.deg2rad(x)"
   ]
  },
  {
   "cell_type": "code",
   "execution_count": 30,
   "metadata": {},
   "outputs": [
    {
     "data": {
      "text/plain": [
       "array([0.        , 0.26179939, 0.52359878, 0.78539816, 1.04719755,\n",
       "       1.30899694, 1.57079633])"
      ]
     },
     "execution_count": 30,
     "metadata": {},
     "output_type": "execute_result"
    }
   ],
   "source": [
    "sudut"
   ]
  },
  {
   "cell_type": "code",
   "execution_count": 31,
   "metadata": {},
   "outputs": [
    {
     "data": {
      "text/plain": [
       "array([0.        , 0.25881905, 0.5       , 0.70710678, 0.8660254 ,\n",
       "       0.96592583, 1.        ])"
      ]
     },
     "execution_count": 31,
     "metadata": {},
     "output_type": "execute_result"
    }
   ],
   "source": [
    "#sinus\n",
    "np.sin(sudut)"
   ]
  },
  {
   "cell_type": "code",
   "execution_count": 32,
   "metadata": {},
   "outputs": [
    {
     "data": {
      "text/plain": [
       "array([1.00000000e+00, 9.65925826e-01, 8.66025404e-01, 7.07106781e-01,\n",
       "       5.00000000e-01, 2.58819045e-01, 6.12323400e-17])"
      ]
     },
     "execution_count": 32,
     "metadata": {},
     "output_type": "execute_result"
    }
   ],
   "source": [
    "#cosinus\n",
    "np.cos(sudut)"
   ]
  },
  {
   "cell_type": "code",
   "execution_count": 33,
   "metadata": {},
   "outputs": [
    {
     "data": {
      "text/plain": [
       "array([0.00000000e+00, 2.67949192e-01, 5.77350269e-01, 1.00000000e+00,\n",
       "       1.73205081e+00, 3.73205081e+00, 1.63312394e+16])"
      ]
     },
     "execution_count": 33,
     "metadata": {},
     "output_type": "execute_result"
    }
   ],
   "source": [
    "#tangen\n",
    "np.tan(sudut)"
   ]
  },
  {
   "cell_type": "code",
   "execution_count": 34,
   "metadata": {},
   "outputs": [],
   "source": [
    "sd = np.random.rand(1,10)"
   ]
  },
  {
   "cell_type": "code",
   "execution_count": 35,
   "metadata": {},
   "outputs": [
    {
     "data": {
      "text/plain": [
       "array([[0.53009796, 0.87436511, 0.5527692 , 0.28481109, 0.58276506,\n",
       "        0.03574511, 0.21166765, 0.26462831, 0.68224498, 0.5449064 ]])"
      ]
     },
     "execution_count": 35,
     "metadata": {},
     "output_type": "execute_result"
    }
   ],
   "source": [
    "sd"
   ]
  },
  {
   "cell_type": "code",
   "execution_count": 36,
   "metadata": {},
   "outputs": [
    {
     "data": {
      "text/plain": [
       "array([[0.55871609, 1.06412594, 0.58568362, 0.28880935, 0.62212712,\n",
       "        0.03575272, 0.21328096, 0.26781847, 0.75082885, 0.57627749]])"
      ]
     },
     "execution_count": 36,
     "metadata": {},
     "output_type": "execute_result"
    }
   ],
   "source": [
    "#arcsin\n",
    "np.arcsin(sd)"
   ]
  },
  {
   "cell_type": "code",
   "execution_count": 37,
   "metadata": {},
   "outputs": [
    {
     "data": {
      "text/plain": [
       "array([[1.01208024, 0.50667038, 0.98511271, 1.28198698, 0.94866921,\n",
       "        1.5350436 , 1.35751537, 1.30297786, 0.81996748, 0.99451884]])"
      ]
     },
     "execution_count": 37,
     "metadata": {},
     "output_type": "execute_result"
    }
   ],
   "source": [
    "#arccos\n",
    "np.arccos(sd)"
   ]
  },
  {
   "cell_type": "code",
   "execution_count": 38,
   "metadata": {},
   "outputs": [
    {
     "data": {
      "text/plain": [
       "array([[0.48743505, 0.7184703 , 0.50496679, 0.27746443, 0.52765035,\n",
       "        0.03572989, 0.20858887, 0.2586984 , 0.59871019, 0.49892417]])"
      ]
     },
     "execution_count": 38,
     "metadata": {},
     "output_type": "execute_result"
    }
   ],
   "source": [
    "#arctan\n",
    "np.arctan(sd)"
   ]
  },
  {
   "cell_type": "markdown",
   "metadata": {},
   "source": [
    "## Selamat Mencoba"
   ]
  }
 ],
 "metadata": {
  "kernelspec": {
   "display_name": "Python 3",
   "language": "python",
   "name": "python3"
  },
  "language_info": {
   "codemirror_mode": {
    "name": "ipython",
    "version": 3
   },
   "file_extension": ".py",
   "mimetype": "text/x-python",
   "name": "python",
   "nbconvert_exporter": "python",
   "pygments_lexer": "ipython3",
   "version": "3.8.3"
  }
 },
 "nbformat": 4,
 "nbformat_minor": 4
}
